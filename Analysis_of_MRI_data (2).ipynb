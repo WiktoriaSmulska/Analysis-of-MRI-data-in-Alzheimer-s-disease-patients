{
  "cells": [
    {
      "cell_type": "code",
      "execution_count": 3,
      "metadata": {
        "id": "r0dsRrkjhgp3"
      },
      "outputs": [],
      "source": [
        "# from google.colab import files\n",
        "# uploaded = files.upload()\n"
      ]
    },
    {
      "cell_type": "code",
      "execution_count": 4,
      "metadata": {
        "id": "QGv1BlMrhmCN"
      },
      "outputs": [],
      "source": [
        "# import zipfile\n",
        "# import os\n",
        "\n",
        "# # with zipfile.ZipFile(\"data.zip\", 'r') as zip_ref:\n",
        "#     zip_ref.extractall(\"data\")\n"
      ]
    },
    {
      "cell_type": "code",
      "execution_count": 5,
      "metadata": {
        "id": "x_p6B8p_hl-t"
      },
      "outputs": [],
      "source": [
        "import torch\n",
        "from torch import nn\n",
        "import torchvision\n",
        "from torchvision import datasets, transforms\n",
        "from torchvision.transforms import ToTensor\n",
        "import matplotlib.pyplot as plt"
      ]
    },
    {
      "cell_type": "code",
      "execution_count": 6,
      "metadata": {
        "id": "P-ZalPVbw01g"
      },
      "outputs": [],
      "source": [
        "device = \"cuda\" if torch.cuda.is_available() else \"cpu\""
      ]
    },
    {
      "cell_type": "code",
      "execution_count": 7,
      "metadata": {
        "colab": {
          "base_uri": "https://localhost:8080/"
        },
        "id": "aBS2cbVFhl7x",
        "outputId": "df9fa5a6-1202-4cb2-f7f3-8066aef2c75b"
      },
      "outputs": [
        {
          "output_type": "stream",
          "name": "stdout",
          "text": [
            "tensor([[[0., 0., 0.,  ..., 0., 0., 0.],\n",
            "         [0., 0., 0.,  ..., 0., 0., 0.],\n",
            "         [0., 0., 0.,  ..., 0., 0., 0.],\n",
            "         ...,\n",
            "         [0., 0., 0.,  ..., 0., 0., 0.],\n",
            "         [0., 0., 0.,  ..., 0., 0., 0.],\n",
            "         [0., 0., 0.,  ..., 0., 0., 0.]],\n",
            "\n",
            "        [[0., 0., 0.,  ..., 0., 0., 0.],\n",
            "         [0., 0., 0.,  ..., 0., 0., 0.],\n",
            "         [0., 0., 0.,  ..., 0., 0., 0.],\n",
            "         ...,\n",
            "         [0., 0., 0.,  ..., 0., 0., 0.],\n",
            "         [0., 0., 0.,  ..., 0., 0., 0.],\n",
            "         [0., 0., 0.,  ..., 0., 0., 0.]],\n",
            "\n",
            "        [[0., 0., 0.,  ..., 0., 0., 0.],\n",
            "         [0., 0., 0.,  ..., 0., 0., 0.],\n",
            "         [0., 0., 0.,  ..., 0., 0., 0.],\n",
            "         ...,\n",
            "         [0., 0., 0.,  ..., 0., 0., 0.],\n",
            "         [0., 0., 0.,  ..., 0., 0., 0.],\n",
            "         [0., 0., 0.,  ..., 0., 0., 0.]]]) 0\n",
            "torch.Size([3, 208, 176])\n"
          ]
        }
      ],
      "source": [
        "#BEZ SKALOWANIa\n",
        "train_data = datasets.ImageFolder(\n",
        "    root=\"data/data/split/train\",\n",
        "    transform=transforms.ToTensor()\n",
        ")\n",
        "\n",
        "test_data = datasets.ImageFolder(\n",
        "    root=\"data/data/split/test\",\n",
        ")\n",
        "\n",
        "image, label = train_data[0]\n",
        "print(image, label)\n",
        "print(image.shape)"
      ]
    },
    {
      "cell_type": "code",
      "execution_count": 8,
      "metadata": {
        "colab": {
          "base_uri": "https://localhost:8080/"
        },
        "id": "5sahKKt8hl4z",
        "outputId": "68652fee-4be2-4f16-c838-27a90fd6ab4c"
      },
      "outputs": [
        {
          "output_type": "stream",
          "name": "stdout",
          "text": [
            "tensor([[[-1., -1., -1.,  ..., -1., -1., -1.],\n",
            "         [-1., -1., -1.,  ..., -1., -1., -1.],\n",
            "         [-1., -1., -1.,  ..., -1., -1., -1.],\n",
            "         ...,\n",
            "         [-1., -1., -1.,  ..., -1., -1., -1.],\n",
            "         [-1., -1., -1.,  ..., -1., -1., -1.],\n",
            "         [-1., -1., -1.,  ..., -1., -1., -1.]]]) 0\n",
            "torch.Size([1, 128, 128])\n"
          ]
        }
      ],
      "source": [
        "#Z skalowaniem\n",
        "\n",
        "transform = transforms.Compose([\n",
        "    transforms.Grayscale(num_output_channels= 1),\n",
        "    transforms.Resize((128, 128)),\n",
        "    transforms.ToTensor(),\n",
        "    transforms.Normalize(mean=[0.5], std=[0.5])\n",
        "])\n",
        "train_data = datasets.ImageFolder(\n",
        "    root=\"data/data/split/train\",\n",
        "    transform=transform\n",
        ")\n",
        "\n",
        "test_data = datasets.ImageFolder(\n",
        "    root=\"data/data/split/test\",\n",
        "    transform= transform\n",
        ")\n",
        "\n",
        "image, label = train_data[0]\n",
        "print(image, label)\n",
        "print(image.shape)"
      ]
    },
    {
      "cell_type": "code",
      "execution_count": 9,
      "metadata": {
        "id": "vdlg-2Oihl1o"
      },
      "outputs": [],
      "source": [
        "names_of_classes = train_data.classes"
      ]
    },
    {
      "cell_type": "code",
      "execution_count": 10,
      "metadata": {
        "colab": {
          "base_uri": "https://localhost:8080/"
        },
        "id": "99or70HEhlyj",
        "outputId": "fa65e0b8-379c-4299-b9d7-796ac123293f"
      },
      "outputs": [
        {
          "output_type": "execute_result",
          "data": {
            "text/plain": [
              "{'MildDemented': 0,\n",
              " 'ModerateDemented': 1,\n",
              " 'NonDemented': 2,\n",
              " 'VeryMildDemented': 3}"
            ]
          },
          "metadata": {},
          "execution_count": 10
        }
      ],
      "source": [
        "train_data.class_to_idx"
      ]
    },
    {
      "cell_type": "code",
      "execution_count": 11,
      "metadata": {
        "colab": {
          "base_uri": "https://localhost:8080/",
          "height": 469
        },
        "id": "MN7a9s4ghlvf",
        "outputId": "7c755e0c-4134-4f1d-d3b3-b29f825c10f9"
      },
      "outputs": [
        {
          "output_type": "execute_result",
          "data": {
            "text/plain": [
              "<matplotlib.image.AxesImage at 0x7acd06f98aa0>"
            ]
          },
          "metadata": {},
          "execution_count": 11
        },
        {
          "output_type": "display_data",
          "data": {
            "text/plain": [
              "<Figure size 640x480 with 1 Axes>"
            ],
            "image/png": "[encoded data removed]"
          },
          "metadata": {}
        }
      ],
      "source": [
        "image, label = train_data[0]\n",
        "plt.title(label)\n",
        "plt.title(names_of_classes[label])\n",
        "plt.imshow(image.squeeze(), cmap='gray')"
      ]
    },
    {
      "cell_type": "code",
      "execution_count": 12,
      "metadata": {
        "colab": {
          "base_uri": "https://localhost:8080/"
        },
        "id": "1bUzp2qthlsb",
        "outputId": "1afbd856-a7e7-4c0b-9677-04525993ecd1"
      },
      "outputs": [
        {
          "output_type": "stream",
          "name": "stdout",
          "text": [
            "Length of train dataloader: 160\n",
            "Length of test dataloader: 41\n",
            "torch.Size([1, 128, 128])\n",
            "0\n",
            "torch.Size([32, 1, 128, 128])\n",
            "tensor([2, 2, 2, 2, 3, 2, 2, 2, 2, 2, 2, 2, 3, 3, 3, 3, 2, 3, 2, 3, 2, 2, 3, 2,\n",
            "        0, 2, 3, 3, 3, 2, 2, 2])\n"
          ]
        }
      ],
      "source": [
        "from torch.utils.data import DataLoader\n",
        "\n",
        "train_dataloader = DataLoader(\n",
        "    train_data,\n",
        "    batch_size = 32,\n",
        "    shuffle = True\n",
        ")\n",
        "\n",
        "test_dataloader = DataLoader(\n",
        "    test_data,\n",
        "    batch_size = 32,\n",
        "    shuffle = False\n",
        ")\n",
        "\n",
        "print(f\"Length of train dataloader: {len(train_dataloader)}\")\n",
        "print(f\"Length of test dataloader: {len(test_dataloader)}\")\n",
        "\n",
        "image, label = train_data[0]\n",
        "print(image.shape)\n",
        "print(label)\n",
        "\n",
        "image_batch, label_batch = next(iter(train_dataloader))\n",
        "print(image_batch.shape)\n",
        "print(label_batch)"
      ]
    },
    {
      "cell_type": "markdown",
      "metadata": {
        "id": "WdiZx2ywquly"
      },
      "source": [
        "Shape before flattening: torch.Size([1, 128, 128]) -> [color_channels, height, width]\n",
        "\n",
        "\n",
        "Shape after flattening: torch.Size([1, 16384]) -> [color_channels, height*width]"
      ]
    },
    {
      "cell_type": "markdown",
      "metadata": {
        "id": "WwlPXASS4Vp9"
      },
      "source": [
        "## MODEL **0**"
      ]
    },
    {
      "cell_type": "code",
      "execution_count": 13,
      "metadata": {
        "id": "-hWfiSlPmklK"
      },
      "outputs": [],
      "source": [
        "from torch import nn\n",
        "class ModelV0(nn.Module):\n",
        "  def __init__(self, input_shape: int, hidden_units: int, output_shape: int):\n",
        "    super().__init__()\n",
        "    self.layer1 = nn.Sequential(\n",
        "        nn.Flatten(),\n",
        "        nn.Linear(in_features=input_shape, out_features=hidden_units),\n",
        "        nn.Linear(in_features=hidden_units, out_features=output_shape)\n",
        "    )\n",
        "\n",
        "  def forward(self, x):\n",
        "    return self.layer1(x)\n"
      ]
    },
    {
      "cell_type": "code",
      "execution_count": 14,
      "metadata": {
        "colab": {
          "base_uri": "https://localhost:8080/"
        },
        "id": "AU2VyWEkmkh0",
        "outputId": "fd144f12-eb88-4cb2-b8e9-15741c0847f2"
      },
      "outputs": [
        {
          "output_type": "execute_result",
          "data": {
            "text/plain": [
              "ModelV0(\n",
              "  (layer1): Sequential(\n",
              "    (0): Flatten(start_dim=1, end_dim=-1)\n",
              "    (1): Linear(in_features=16384, out_features=32, bias=True)\n",
              "    (2): Linear(in_features=32, out_features=4, bias=True)\n",
              "  )\n",
              ")"
            ]
          },
          "metadata": {},
          "execution_count": 14
        }
      ],
      "source": [
        "modelV0 = ModelV0(\n",
        "    input_shape=1 * 128 * 128,\n",
        "    hidden_units=32,\n",
        "    output_shape=len(names_of_classes)\n",
        ")\n",
        "modelV0"
      ]
    },
    {
      "cell_type": "code",
      "execution_count": 15,
      "metadata": {
        "id": "lPQMEK3imkeh"
      },
      "outputs": [],
      "source": [
        "loss_fn = nn.CrossEntropyLoss()\n",
        "optimizer = torch.optim.SGD(params=modelV0.parameters(), lr=0.01)"
      ]
    },
    {
      "cell_type": "code",
      "execution_count": 16,
      "metadata": {
        "id": "7VDupKe7mkbP"
      },
      "outputs": [],
      "source": [
        "def accuracy_fn(y_true, y_pred):\n",
        "    correct = torch.eq(y_true, y_pred).sum().item()\n",
        "    acc = (correct / len(y_pred)) * 100\n",
        "    return acc\n",
        "\n",
        "\n",
        "    from timeit import default_timer as timer\n",
        "def print_train_time(start: float, end: float, device: torch.device = None):\n",
        "    total_time = end - start\n",
        "    print(f\"Train time on {device}: {total_time:.3f} seconds\")\n",
        "    return total_time"
      ]
    },
    {
      "cell_type": "code",
      "execution_count": 17,
      "metadata": {
        "colab": {
          "base_uri": "https://localhost:8080/",
          "height": 743,
          "referenced_widgets": [
            "3a9675c6615f43e7bc68728e39888500",
            "2e9dff9b069c417fa958c403d1bd0fe7",
            "92cf00f159d24a808bb8a64bc0dbb1f4",
            "edc09a3e7f5a41f9b2b75baafb6dd764",
            "ae499f8128134d6ab13c72abbb1f20ce",
            "ac1a297b1545458686b3da9a09015cf6",
            "b8a8210081884637ae3a0cc8df5c91da",
            "dbfcc0ca73aa43c5b89b38ca7f2cb23a",
            "7f907dd10c0f463da4793d566084ba92",
            "cf796410323f4c7591c58ef5cd2a79ce",
            "1a9150bead0c4a34a7c00c547759d908"
          ]
        },
        "id": "z9A3JdLoxS94",
        "outputId": "dac6576f-12b6-4300-f8e3-7f454f9ffd7d"
      },
      "outputs": [
        {
          "output_type": "display_data",
          "data": {
            "text/plain": [
              "  0%|          | 0/3 [00:00<?, ?it/s]"
            ],
            "application/vnd.jupyter.widget-view+json": {
              "version_major": 2,
              "version_minor": 0,
              "model_id": "3a9675c6615f43e7bc68728e39888500"
            }
          },
          "metadata": {}
        },
        {
          "output_type": "stream",
          "name": "stdout",
          "text": [
            "Epoch: 0\n",
            "-------\n",
            "Looked at 0/5119 samples\n",
            "Looked at 640/5119 samples\n",
            "Looked at 1280/5119 samples\n",
            "Looked at 1920/5119 samples\n",
            "Looked at 2560/5119 samples\n",
            "Looked at 3200/5119 samples\n",
            "Looked at 3840/5119 samples\n",
            "Looked at 4480/5119 samples\n",
            "\n",
            "Train loss: 1.13691 | Test loss: 0.92987, Test acc: 57.16%\n",
            "\n",
            "Epoch: 1\n",
            "-------\n",
            "Looked at 0/5119 samples\n",
            "Looked at 640/5119 samples\n",
            "Looked at 1280/5119 samples\n",
            "Looked at 1920/5119 samples\n",
            "Looked at 2560/5119 samples\n",
            "Looked at 3200/5119 samples\n",
            "Looked at 3840/5119 samples\n",
            "Looked at 4480/5119 samples\n",
            "\n",
            "Train loss: 0.93596 | Test loss: 0.91234, Test acc: 51.98%\n",
            "\n",
            "Epoch: 2\n",
            "-------\n",
            "Looked at 0/5119 samples\n",
            "Looked at 640/5119 samples\n",
            "Looked at 1280/5119 samples\n",
            "Looked at 1920/5119 samples\n",
            "Looked at 2560/5119 samples\n",
            "Looked at 3200/5119 samples\n",
            "Looked at 3840/5119 samples\n",
            "Looked at 4480/5119 samples\n",
            "\n",
            "Train loss: 0.91144 | Test loss: 0.88154, Test acc: 52.59%\n",
            "\n",
            "Train time on cpu: 20.275 seconds\n"
          ]
        }
      ],
      "source": [
        "from tqdm.auto import tqdm\n",
        "from timeit import default_timer as timer\n",
        "\n",
        "torch.manual_seed(42)\n",
        "train_time_start_on_cpu = timer()\n",
        "\n",
        "epochs = 3\n",
        "\n",
        "for epoch in tqdm(range(epochs)):\n",
        "  print(f\"Epoch: {epoch}\\n-------\")\n",
        "  train_loss = 0\n",
        "  for batch, (X, y) in enumerate(train_dataloader):\n",
        "    modelV0.train()\n",
        "    y_pred = modelV0(X)\n",
        "\n",
        "    loss = loss_fn(y_pred, y)\n",
        "\n",
        "    train_loss += loss\n",
        "\n",
        "    optimizer.zero_grad()\n",
        "\n",
        "    loss.backward()\n",
        "\n",
        "    optimizer.step()\n",
        "\n",
        "    if batch % 20 == 0:\n",
        "            print(f\"Looked at {batch * len(X)}/{len(train_dataloader.dataset)} samples\")\n",
        "\n",
        "  train_loss /= len(train_dataloader)\n",
        "\n",
        "  test_loss, test_acc = 0, 0\n",
        "  modelV0.eval()\n",
        "  with torch.inference_mode():\n",
        "      for X, y in test_dataloader:\n",
        "          test_pred = modelV0(X)\n",
        "\n",
        "          test_loss += loss_fn(test_pred, y)\n",
        "          test_acc += accuracy_fn(y_true=y, y_pred=test_pred.argmax(dim=1))\n",
        "\n",
        "      test_loss /= len(test_dataloader)\n",
        "\n",
        "      test_acc /= len(test_dataloader)\n",
        "\n",
        "  print(f\"\\nTrain loss: {train_loss:.5f} | Test loss: {test_loss:.5f}, Test acc: {test_acc:.2f}%\\n\")\n",
        "\n",
        "train_time_end_on_cpu = timer()\n",
        "total_train_time_model_0 = print_train_time(start=train_time_start_on_cpu,\n",
        "                                           end=train_time_end_on_cpu,\n",
        "                                           device=str(next(modelV0.parameters()).device))"
      ]
    },
    {
      "cell_type": "code",
      "execution_count": 18,
      "metadata": {
        "colab": {
          "base_uri": "https://localhost:8080/"
        },
        "id": "SMElmChwxS6V",
        "outputId": "afa7c111-f715-4c44-a5c4-356843fb94ac"
      },
      "outputs": [
        {
          "output_type": "execute_result",
          "data": {
            "text/plain": [
              "{'model_name': 'ModelV0',\n",
              " 'model_loss': 0.8815366625785828,\n",
              " 'model_acc': 52.59146341463415}"
            ]
          },
          "metadata": {},
          "execution_count": 18
        }
      ],
      "source": [
        "torch.manual_seed(42)\n",
        "def eval_model(model: torch.nn.Module,\n",
        "               data_loader: torch.utils.data.DataLoader,\n",
        "               loss_fn: torch.nn.Module,\n",
        "               accuracy_fn):\n",
        "\n",
        "    model.to(device)\n",
        "    loss, acc = 0, 0\n",
        "    model.eval()\n",
        "    with torch.inference_mode():\n",
        "        for X, y in data_loader:\n",
        "            X, y = X.to(device), y.to(device)\n",
        "            y_pred = model(X)\n",
        "\n",
        "            loss += loss_fn(y_pred, y)\n",
        "            acc += accuracy_fn(y_true=y,\n",
        "                                y_pred=y_pred.argmax(dim=1))\n",
        "\n",
        "        loss /= len(data_loader)\n",
        "        acc /= len(data_loader)\n",
        "\n",
        "    return {\"model_name\": model.__class__.__name__,\n",
        "            \"model_loss\": loss.item(),\n",
        "            \"model_acc\": acc}\n",
        "\n",
        "results_of_model0 = eval_model(model=modelV0, data_loader=test_dataloader,\n",
        "    loss_fn=loss_fn, accuracy_fn=accuracy_fn\n",
        ")\n",
        "results_of_model0"
      ]
    },
    {
      "cell_type": "markdown",
      "metadata": {
        "id": "JtAL6aiA43rz"
      },
      "source": [
        "# MODEL **1**"
      ]
    },
    {
      "cell_type": "code",
      "execution_count": 19,
      "metadata": {
        "id": "knruepSJxSw-"
      },
      "outputs": [],
      "source": [
        "class ModelV1(nn.Module):\n",
        "  def __init__(self, input_shape: int, hidden_units: int, output_shape: int):\n",
        "      super().__init__()\n",
        "      self.layers = nn.Sequential(\n",
        "          nn.Flatten(),\n",
        "          nn.Linear(in_features=input_shape, out_features=hidden_units),\n",
        "          nn.ReLU(),\n",
        "          nn.Linear(in_features=hidden_units, out_features=hidden_units),\n",
        "          nn.ReLU(),\n",
        "          nn.Linear(in_features=hidden_units, out_features=output_shape),\n",
        "          nn.ReLU()\n",
        "      )\n",
        "\n",
        "  def forward(self, x: torch.Tensor):\n",
        "    return self.layers(x)"
      ]
    },
    {
      "cell_type": "code",
      "execution_count": 20,
      "metadata": {
        "id": "3A_B_TVaxStm"
      },
      "outputs": [],
      "source": [
        "torch.manual_seed(42)\n",
        "modelV1 = ModelV1(\n",
        "    input_shape=128 * 128,\n",
        "    hidden_units=32,\n",
        "    output_shape=len(names_of_classes)\n",
        ").to(device)"
      ]
    },
    {
      "cell_type": "code",
      "execution_count": 21,
      "metadata": {
        "id": "xVJT5oRxxSqp"
      },
      "outputs": [],
      "source": [
        "loss_fn = nn.CrossEntropyLoss()\n",
        "optimizer = torch.optim.SGD(modelV1.parameters(), lr=0.1e-3)"
      ]
    },
    {
      "cell_type": "code",
      "execution_count": 22,
      "metadata": {
        "id": "5X9ZLPgBxSmC"
      },
      "outputs": [],
      "source": [
        "def train(model: torch.nn.Module,\n",
        "    data_loader: torch.utils.data.DataLoader,\n",
        "    loss_fn: torch.nn.Module,\n",
        "    optimizer: torch.optim.Optimizer,\n",
        "    accuracy_fn,\n",
        "    device: torch.device = device):\n",
        "\n",
        "    train_loss, train_acc = 0, 0\n",
        "    model.to(device)\n",
        "    for batch, (X, y) in enumerate(data_loader):\n",
        "      X, y = X.to(device), y.to(device)\n",
        "\n",
        "      y_pred = model(X)\n",
        "\n",
        "      loss = loss_fn(y_pred, y)\n",
        "      train_loss += loss\n",
        "      train_acc += accuracy_fn(y_true=y, y_pred=y_pred.argmax(dim=1))\n",
        "\n",
        "      optimizer.zero_grad()\n",
        "      loss.backward()\n",
        "      optimizer.step()\n",
        "\n",
        "    train_loss /= len(data_loader)\n",
        "    train_acc /= len(data_loader)\n",
        "    print(f\"Train loss: {train_loss:.5f} | Train accuracy: {train_acc:.2f}%\")\n",
        "\n",
        "\n",
        "def test(model: nn.Module,\n",
        "         data_loader: torch.utils.data.DataLoader,\n",
        "         loss_fn: torch.nn.Module,\n",
        "         accuracy_fn,\n",
        "         device: torch.device = device\n",
        "         ):\n",
        "\n",
        "  test_loss, test_acc = 0, 0\n",
        "  model.to(device)\n",
        "  model.eval()\n",
        "  with torch.inference_mode():\n",
        "    for X, y in data_loader:\n",
        "      X, y = X.to(device), y.to(device)\n",
        "      y_test_pred = model(X)\n",
        "\n",
        "      test_loss += loss_fn(y_test_pred, y)\n",
        "      test_acc += accuracy_fn(y_true=y, y_pred=y_test_pred.argmax(dim=1))\n",
        "\n",
        "    test_loss /= len(data_loader)\n",
        "    test_acc /= len(data_loader)\n",
        "    print(f\"Test loss: {test_loss:.5f} | Test accuracy: {test_acc:.2f}%\\n\")"
      ]
    },
    {
      "cell_type": "code",
      "execution_count": 23,
      "metadata": {
        "colab": {
          "base_uri": "https://localhost:8080/",
          "height": 327,
          "referenced_widgets": [
            "1384b4fdbbfc42e0870b5acd92726d09",
            "97dec760d23e4f29893e97b5b6aaf164",
            "ef767cb983384e93b35f77a95bef2757",
            "e5758655f57749978d2c1c740320f393",
            "e4717a7dd9a24538a0b25c1b4e155d61",
            "3051a2442cae43479f200366d4a51b30",
            "61522b0cdd474439bce6fc6bf140ca59",
            "a375fc50adf54f45b422daf82471bb80",
            "bcbc77d0c86e4ed6b577bf631c1ab588",
            "355fbd1436284c35a55438644361a7b4",
            "db3e699aed354ac383fe23af9b6a5f5a"
          ]
        },
        "id": "yB88CibW5-CQ",
        "outputId": "0b9d093c-088a-4ab0-89b6-b94ec9a61176"
      },
      "outputs": [
        {
          "output_type": "display_data",
          "data": {
            "text/plain": [
              "  0%|          | 0/3 [00:00<?, ?it/s]"
            ],
            "application/vnd.jupyter.widget-view+json": {
              "version_major": 2,
              "version_minor": 0,
              "model_id": "1384b4fdbbfc42e0870b5acd92726d09"
            }
          },
          "metadata": {}
        },
        {
          "output_type": "stream",
          "name": "stdout",
          "text": [
            "Epoch: 0\n",
            "---------\n",
            "Train loss: 1.30657 | Train accuracy: 49.58%\n",
            "Test loss: 1.27606 | Test accuracy: 48.78%\n",
            "\n",
            "Epoch: 1\n",
            "---------\n",
            "Train loss: 1.25300 | Train accuracy: 50.01%\n",
            "Test loss: 1.25475 | Test accuracy: 48.78%\n",
            "\n",
            "Epoch: 2\n",
            "---------\n",
            "Train loss: 1.23899 | Train accuracy: 50.01%\n",
            "Test loss: 1.24816 | Test accuracy: 48.78%\n",
            "\n",
            "Train time on cuda: 19.383 seconds\n"
          ]
        }
      ],
      "source": [
        "torch.manual_seed(42)\n",
        "\n",
        "from timeit import default_timer as timer\n",
        "train_time_start_on_gpu = timer()\n",
        "\n",
        "epochs = 3\n",
        "for epoch in tqdm(range(epochs)):\n",
        "    print(f\"Epoch: {epoch}\\n---------\")\n",
        "    train(data_loader=train_dataloader,\n",
        "        model=modelV1,\n",
        "        loss_fn=loss_fn,\n",
        "        optimizer=optimizer,\n",
        "        accuracy_fn=accuracy_fn\n",
        "    )\n",
        "    test(model=modelV1,\n",
        "        data_loader=test_dataloader,\n",
        "        loss_fn=loss_fn,\n",
        "        accuracy_fn=accuracy_fn\n",
        "    )\n",
        "\n",
        "train_time_end_on_gpu = timer()\n",
        "total_train_time_model_1 = print_train_time(start=train_time_start_on_gpu,\n",
        "                                            end=train_time_end_on_gpu,\n",
        "                                            device=device)"
      ]
    },
    {
      "cell_type": "code",
      "execution_count": 24,
      "metadata": {
        "colab": {
          "base_uri": "https://localhost:8080/"
        },
        "id": "_KeaKnAm59-1",
        "outputId": "68f15ed3-406b-4f7b-d02b-d5bdf82e0cc8"
      },
      "outputs": [
        {
          "output_type": "execute_result",
          "data": {
            "text/plain": [
              "{'model_name': 'ModelV1',\n",
              " 'model_loss': 1.2481647729873657,\n",
              " 'model_acc': 48.78048780487805}"
            ]
          },
          "metadata": {},
          "execution_count": 24
        }
      ],
      "source": [
        "results_of_model1 = eval_model(model=modelV1,\n",
        "    data_loader=test_dataloader,\n",
        "    loss_fn=loss_fn,\n",
        "    accuracy_fn=accuracy_fn)\n",
        "results_of_model1"
      ]
    },
    {
      "cell_type": "markdown",
      "metadata": {
        "id": "1ZZeda2d7QTS"
      },
      "source": [
        "# MODEL **2**"
      ]
    },
    {
      "cell_type": "code",
      "execution_count": 25,
      "metadata": {
        "colab": {
          "base_uri": "https://localhost:8080/"
        },
        "id": "LGs7EN1W597N",
        "outputId": "3d652182-d463-4c15-9ae3-e342ef74faf0"
      },
      "outputs": [
        {
          "output_type": "execute_result",
          "data": {
            "text/plain": [
              "ModelV2CNN(\n",
              "  (block1): Sequential(\n",
              "    (0): Conv2d(1, 64, kernel_size=(3, 3), stride=(1, 1), padding=(1, 1))\n",
              "    (1): ReLU()\n",
              "    (2): Conv2d(64, 64, kernel_size=(3, 3), stride=(1, 1), padding=(1, 1))\n",
              "    (3): ReLU()\n",
              "    (4): MaxPool2d(kernel_size=2, stride=2, padding=0, dilation=1, ceil_mode=False)\n",
              "  )\n",
              "  (block2): Sequential(\n",
              "    (0): Conv2d(64, 64, kernel_size=(3, 3), stride=(1, 1), padding=(1, 1))\n",
              "    (1): ReLU()\n",
              "    (2): Conv2d(64, 64, kernel_size=(3, 3), stride=(1, 1), padding=(1, 1))\n",
              "    (3): ReLU()\n",
              "    (4): MaxPool2d(kernel_size=2, stride=2, padding=0, dilation=1, ceil_mode=False)\n",
              "  )\n",
              "  (classifier): Sequential(\n",
              "    (0): Flatten(start_dim=1, end_dim=-1)\n",
              "    (1): Linear(in_features=65536, out_features=4, bias=True)\n",
              "  )\n",
              ")"
            ]
          },
          "metadata": {},
          "execution_count": 25
        }
      ],
      "source": [
        "class ModelV2CNN(nn.Module):\n",
        "  def __init__(self, input_shape: int, hidden_units: int, output_shape: int):\n",
        "     super().__init__()\n",
        "     self.block1 = nn.Sequential(\n",
        "         nn.Conv2d(in_channels=input_shape,\n",
        "                   out_channels=hidden_units,\n",
        "                   kernel_size=3,\n",
        "                   stride=1,\n",
        "                   padding=1),\n",
        "         nn.ReLU(),\n",
        "         nn.Conv2d(in_channels=hidden_units,\n",
        "                   out_channels=hidden_units,\n",
        "                   kernel_size=3,\n",
        "                   stride=1,\n",
        "                   padding=1),\n",
        "         nn.ReLU(),\n",
        "         nn.MaxPool2d(kernel_size=2, stride=2)\n",
        "     )\n",
        "     self.block2 = nn.Sequential(\n",
        "         nn.Conv2d(in_channels=hidden_units,\n",
        "                   out_channels=hidden_units,\n",
        "                   kernel_size=3,\n",
        "                   stride=1,\n",
        "                   padding=1),\n",
        "         nn.ReLU(),\n",
        "         nn.Conv2d(in_channels=hidden_units,\n",
        "                   out_channels=hidden_units,\n",
        "                   kernel_size=3,\n",
        "                   stride=1,\n",
        "                   padding=1),\n",
        "         nn.ReLU(),\n",
        "         nn.MaxPool2d(kernel_size=2, stride=2)\n",
        "     )\n",
        "     self.classifier = nn.Sequential(\n",
        "         nn.Flatten(),\n",
        "         nn.Linear(in_features=hidden_units*32*32,\n",
        "                   out_features= output_shape)\n",
        "     )\n",
        "\n",
        "  def forward(self, x: torch.Tensor):\n",
        "    x = self.block1(x)\n",
        "    #print(x.shape)\n",
        "    x = self.block2(x)\n",
        "    #print(x.shape)\n",
        "    x = self.classifier(x)\n",
        "    #print(x.shape)\n",
        "    return x\n",
        "\n",
        "torch.manual_seed(42)\n",
        "modelV2 = ModelV2CNN(input_shape=1,\n",
        "                     hidden_units=64,\n",
        "                     output_shape=len(names_of_classes)).to(device)\n",
        "\n",
        "modelV2"
      ]
    },
    {
      "cell_type": "code",
      "execution_count": 27,
      "metadata": {
        "id": "5ofE0-teIx1a"
      },
      "outputs": [],
      "source": [
        "loss_fn = nn.CrossEntropyLoss()\n",
        "optimizer = torch.optim.SGD(modelV2.parameters(), lr=0.01)"
      ]
    },
    {
      "cell_type": "code",
      "execution_count": 28,
      "metadata": {
        "id": "CnWwa3Mn9boW"
      },
      "outputs": [],
      "source": [
        "for images, labels in train_dataloader:\n",
        "    images = images.to(device)\n",
        "    outputs = modelV2(images)\n",
        "    break\n"
      ]
    },
    {
      "cell_type": "code",
      "execution_count": 29,
      "metadata": {
        "colab": {
          "base_uri": "https://localhost:8080/",
          "height": 1000,
          "referenced_widgets": [
            "502672d3a1ac49b89cca0da1f31116f1",
            "cd3dce7856504fab9de78c69408d9a69",
            "9a4cd9f30c5d4888899bf54c22ae545b",
            "be88fa34c7d849e39fce8ad8d749da76",
            "24dd25f31f6049c0af5ec4747883db74",
            "b430264e413047ea8536d5f68a731b8c",
            "f8344937862c4cce8f8cc9d3473d3e28",
            "84fcbb9b52df457aad9f8b64fc784311",
            "aeb36e96459345d6a883a1d60493e457",
            "ed1fa1f015d142c881a868d540dde068",
            "88e381627ccc4a898be3157608f50646"
          ]
        },
        "id": "upLRw35s593s",
        "outputId": "91c2ca36-83d7-45db-daf1-38128f9202d6"
      },
      "outputs": [
        {
          "output_type": "display_data",
          "data": {
            "text/plain": [
              "  0%|          | 0/20 [00:00<?, ?it/s]"
            ],
            "application/vnd.jupyter.widget-view+json": {
              "version_major": 2,
              "version_minor": 0,
              "model_id": "502672d3a1ac49b89cca0da1f31116f1"
            }
          },
          "metadata": {}
        },
        {
          "output_type": "stream",
          "name": "stdout",
          "text": [
            "Epoch: 0\n",
            "---------\n",
            "Train loss: 1.03388 | Train accuracy: 49.64%\n",
            "Test loss: 0.98026 | Test accuracy: 51.22%\n",
            "\n",
            "Epoch: 1\n",
            "---------\n",
            "Train loss: 0.97815 | Train accuracy: 52.02%\n",
            "Test loss: 0.98799 | Test accuracy: 49.24%\n",
            "\n",
            "Epoch: 2\n",
            "---------\n",
            "Train loss: 0.94573 | Train accuracy: 54.01%\n",
            "Test loss: 0.92051 | Test accuracy: 52.21%\n",
            "\n",
            "Epoch: 3\n",
            "---------\n",
            "Train loss: 0.91859 | Train accuracy: 55.36%\n",
            "Test loss: 0.87916 | Test accuracy: 59.22%\n",
            "\n",
            "Epoch: 4\n",
            "---------\n",
            "Train loss: 0.89006 | Train accuracy: 57.78%\n",
            "Test loss: 0.85335 | Test accuracy: 59.45%\n",
            "\n",
            "Epoch: 5\n",
            "---------\n",
            "Train loss: 0.86156 | Train accuracy: 59.97%\n",
            "Test loss: 0.84013 | Test accuracy: 58.84%\n",
            "\n",
            "Epoch: 6\n",
            "---------\n",
            "Train loss: 0.81631 | Train accuracy: 62.79%\n",
            "Test loss: 0.78483 | Test accuracy: 66.01%\n",
            "\n",
            "Epoch: 7\n",
            "---------\n",
            "Train loss: 0.77964 | Train accuracy: 65.01%\n",
            "Test loss: 0.90885 | Test accuracy: 57.24%\n",
            "\n",
            "Epoch: 8\n",
            "---------\n",
            "Train loss: 0.74384 | Train accuracy: 66.62%\n",
            "Test loss: 0.70561 | Test accuracy: 69.97%\n",
            "\n",
            "Epoch: 9\n",
            "---------\n",
            "Train loss: 0.68583 | Train accuracy: 70.81%\n",
            "Test loss: 0.68374 | Test accuracy: 69.74%\n",
            "\n",
            "Epoch: 10\n",
            "---------\n",
            "Train loss: 0.62121 | Train accuracy: 73.01%\n",
            "Test loss: 0.59693 | Test accuracy: 71.80%\n",
            "\n",
            "Epoch: 11\n",
            "---------\n",
            "Train loss: 0.55815 | Train accuracy: 77.09%\n",
            "Test loss: 0.49475 | Test accuracy: 77.21%\n",
            "\n",
            "Epoch: 12\n",
            "---------\n",
            "Train loss: 0.48834 | Train accuracy: 80.70%\n",
            "Test loss: 0.47124 | Test accuracy: 80.41%\n",
            "\n",
            "Epoch: 13\n",
            "---------\n",
            "Train loss: 0.40738 | Train accuracy: 84.04%\n",
            "Test loss: 0.64859 | Test accuracy: 71.80%\n",
            "\n",
            "Epoch: 14\n",
            "---------\n",
            "Train loss: 0.34349 | Train accuracy: 86.66%\n",
            "Test loss: 0.38766 | Test accuracy: 83.54%\n",
            "\n",
            "Epoch: 15\n",
            "---------\n",
            "Train loss: 0.30306 | Train accuracy: 88.84%\n",
            "Test loss: 0.35440 | Test accuracy: 86.66%\n",
            "\n",
            "Epoch: 16\n",
            "---------\n",
            "Train loss: 0.24678 | Train accuracy: 91.46%\n",
            "Test loss: 0.27849 | Test accuracy: 91.01%\n",
            "\n",
            "Epoch: 17\n",
            "---------\n",
            "Train loss: 0.19552 | Train accuracy: 93.85%\n",
            "Test loss: 0.19537 | Test accuracy: 92.68%\n",
            "\n",
            "Epoch: 18\n",
            "---------\n",
            "Train loss: 0.12646 | Train accuracy: 96.15%\n",
            "Test loss: 0.18578 | Test accuracy: 93.52%\n",
            "\n",
            "Epoch: 19\n",
            "---------\n",
            "Train loss: 0.10302 | Train accuracy: 96.82%\n",
            "Test loss: 0.14974 | Test accuracy: 95.27%\n",
            "\n",
            "Train time on cuda: 212.673 seconds\n"
          ]
        }
      ],
      "source": [
        "torch.manual_seed(42)\n",
        "\n",
        "from timeit import default_timer as timer\n",
        "train_time_start_model_2 = timer()\n",
        "\n",
        "epochs = 20\n",
        "for epoch in tqdm(range(epochs)):\n",
        "    print(f\"Epoch: {epoch}\\n---------\")\n",
        "    train(data_loader=train_dataloader,\n",
        "        model=modelV2,\n",
        "        loss_fn=loss_fn,\n",
        "        optimizer=optimizer,\n",
        "        accuracy_fn=accuracy_fn,\n",
        "        device=device\n",
        "    )\n",
        "    test(data_loader=test_dataloader,\n",
        "        model=modelV2,\n",
        "        loss_fn=loss_fn,\n",
        "        accuracy_fn=accuracy_fn,\n",
        "        device=device\n",
        "    )\n",
        "\n",
        "train_time_end_model_2 = timer()\n",
        "total_train_time_model_2 = print_train_time(start=train_time_start_model_2,\n",
        "                                           end=train_time_end_model_2,\n",
        "                                           device=device)"
      ]
    },
    {
      "cell_type": "code",
      "execution_count": 39,
      "metadata": {
        "id": "xovaT04kmTkk"
      },
      "outputs": [],
      "source": [
        "import torch.nn.functional as F\n",
        "from sklearn.metrics import accuracy_score, recall_score, f1_score, roc_auc_score\n",
        "\n",
        "def eval_model_multiclass(model: torch.nn.Module,\n",
        "                          data_loader: torch.utils.data.DataLoader,\n",
        "                          loss_fn: torch.nn.Module,\n",
        "                          class_names=None):\n",
        "\n",
        "    model.to(device)\n",
        "    model.eval()\n",
        "\n",
        "    y_true_all = []\n",
        "    y_pred_all = []\n",
        "    y_prob_all = []\n",
        "\n",
        "    total_loss = 0\n",
        "\n",
        "    with torch.inference_mode():\n",
        "        for X, y in data_loader:\n",
        "            X, y = X.to(device), y.to(device)\n",
        "            logits = model(X)\n",
        "            probs = F.softmax(logits, dim=1)\n",
        "\n",
        "            total_loss += loss_fn(logits, y).item()\n",
        "\n",
        "            y_true_all.extend(y.cpu().numpy())\n",
        "            y_pred_all.extend(logits.argmax(dim=1).cpu().numpy())\n",
        "            y_prob_all.extend(probs.cpu().numpy())\n",
        "\n",
        "    acc = accuracy_score(y_true_all, y_pred_all)\n",
        "    rec = recall_score(y_true_all, y_pred_all, average=\"macro\")\n",
        "    f1 = f1_score(y_true_all, y_pred_all, average=\"macro\")\n",
        "    auc = roc_auc_score(y_true_all, y_prob_all, multi_class=\"ovr\")\n",
        "\n",
        "    avg_loss = total_loss / len(data_loader)\n",
        "\n",
        "    create_confusion_matrix(\n",
        "        y_true_all=y_true_all,\n",
        "        y_pred_all=y_pred_all,\n",
        "        y_prob_all=y_prob_all,\n",
        "        model_name=model.__class__.__name__,\n",
        "        class_names=class_names\n",
        "    )\n",
        "\n",
        "    return {\n",
        "        \"model_name\": model.__class__.__name__,\n",
        "        \"model_loss\": avg_loss,\n",
        "        \"accuracy\": acc,\n",
        "        \"recall\": rec,\n",
        "        \"f1\": f1,\n",
        "        \"auc\": auc\n",
        "    }\n"
      ]
    },
    {
      "cell_type": "code",
      "source": [
        "from sklearn.metrics import confusion_matrix, ConfusionMatrixDisplay\n",
        "\n",
        "def create_confusion_matrix(y_true_all, y_pred_all, y_prob_all=None, model_name=\"\", class_names=None):\n",
        "    if class_names is None and y_prob_all is not None:\n",
        "        class_names = [str(i) for i in range(len(y_prob_all[0]))]\n",
        "\n",
        "    cm = confusion_matrix(y_true_all, y_pred_all)\n",
        "    disp = ConfusionMatrixDisplay(confusion_matrix=cm, display_labels=class_names)\n",
        "    disp.plot(cmap=plt.cm.Blues)\n",
        "    plt.title(f\"{model_name} - Confusion Matrix\")\n",
        "    plt.show()\n"
      ],
      "metadata": {
        "id": "vJ1EMyMHr-oT"
      },
      "execution_count": 42,
      "outputs": []
    },
    {
      "cell_type": "code",
      "execution_count": 43,
      "metadata": {
        "id": "pIsEejD49bvJ",
        "colab": {
          "base_uri": "https://localhost:8080/",
          "height": 509
        },
        "outputId": "114ff6ac-30dd-474f-f3b7-9987419c76c1"
      },
      "outputs": [
        {
          "output_type": "display_data",
          "data": {
            "text/plain": [
              "<Figure size 640x480 with 2 Axes>"
            ],
            "image/png": "[encoded data removed]"
          },
          "metadata": {}
        },
        {
          "output_type": "stream",
          "name": "stdout",
          "text": [
            "{'model_name': 'ModelV2CNN', 'model_loss': 0.14973631601144627, 'accuracy': 0.9516003122560499, 'recall': 0.947429697039072, 'f1': 0.9552818243832507, 'auc': np.float64(0.9939479930605536)}\n"
          ]
        }
      ],
      "source": [
        "class_names = [\"MildDemented\", \"ModerateDemented\", \"NonDemented\", \"VeryMildDemented\"]\n",
        "\n",
        "results_of_model2 = eval_model_multiclass(\n",
        "    model=modelV2,\n",
        "    data_loader=test_dataloader,\n",
        "    loss_fn=loss_fn,\n",
        "    class_names=class_names\n",
        ")\n",
        "\n",
        "print(results_of_model2)\n"
      ]
    },
    {
      "cell_type": "code",
      "execution_count": 34,
      "metadata": {
        "id": "tTsf7lU4ZVtI",
        "colab": {
          "base_uri": "https://localhost:8080/"
        },
        "outputId": "73c3141b-077f-43db-ac7f-0b3dbcd7bf97"
      },
      "outputs": [
        {
          "output_type": "stream",
          "name": "stdout",
          "text": [
            "\n",
            "===== Fold 1 =====\n",
            "Epoch 1, Loss: 1.0423\n",
            "Epoch 2, Loss: 0.9929\n",
            "Epoch 3, Loss: 0.9545\n",
            "Accuracy (fold 1): 0.5137\n",
            "\n",
            "===== Fold 2 =====\n",
            "Epoch 1, Loss: 1.0481\n",
            "Epoch 2, Loss: 0.9894\n",
            "Epoch 3, Loss: 0.9491\n",
            "Accuracy (fold 2): 0.5518\n",
            "\n",
            "===== Fold 3 =====\n",
            "Epoch 1, Loss: 1.0396\n",
            "Epoch 2, Loss: 0.9754\n",
            "Epoch 3, Loss: 0.9409\n",
            "Accuracy (fold 3): 0.5576\n",
            "\n",
            "===== Fold 4 =====\n",
            "Epoch 1, Loss: 1.0368\n",
            "Epoch 2, Loss: 0.9784\n",
            "Epoch 3, Loss: 0.9551\n",
            "Accuracy (fold 4): 0.5635\n",
            "\n",
            "===== Fold 5 =====\n",
            "Epoch 1, Loss: 1.0483\n",
            "Epoch 2, Loss: 0.9875\n",
            "Epoch 3, Loss: 0.9621\n",
            "Accuracy (fold 5): 0.5513\n",
            "\n",
            "Średnia dokładność CV: 0.5475686171187684\n",
            "Final model — Epoch 1, Loss: 1.0274\n",
            "Final model — Epoch 2, Loss: 0.9672\n",
            "Final model — Epoch 3, Loss: 0.9449\n",
            "Final model — Epoch 4, Loss: 0.9210\n",
            "Final model — Epoch 5, Loss: 0.8904\n",
            "\n",
            "Dokładność na zbiorze testowym: 0.6088992974238876\n"
          ]
        }
      ],
      "source": [
        "import torch\n",
        "from torch import nn, optim\n",
        "from torch.utils.data import DataLoader, Subset\n",
        "from sklearn.model_selection import StratifiedKFold\n",
        "from torchvision import datasets, transforms\n",
        "from sklearn.metrics import accuracy_score\n",
        "import numpy as np\n",
        "\n",
        "labels = np.array([label for _, label in train_data.samples])\n",
        "skf = StratifiedKFold(n_splits=5, shuffle=True, random_state=42)\n",
        "\n",
        "device = \"cuda\" if torch.cuda.is_available() else \"cpu\"\n",
        "cv_scores = []\n",
        "\n",
        "def train_one_epoch(model, dataloader, criterion, optimizer, device):\n",
        "    model.train()\n",
        "    total_loss = 0\n",
        "    for images, labels in dataloader:\n",
        "        images, labels = images.to(device), labels.to(device)\n",
        "        optimizer.zero_grad()\n",
        "        outputs = model(images)\n",
        "        loss = criterion(outputs, labels)\n",
        "        loss.backward()\n",
        "        optimizer.step()\n",
        "        total_loss += loss.item()\n",
        "    return total_loss / len(dataloader)\n",
        "\n",
        "def evaluate(model, dataloader, device):\n",
        "    model.eval()\n",
        "    preds, trues = [], []\n",
        "    with torch.no_grad():\n",
        "        for images, labels in dataloader:\n",
        "            images, labels = images.to(device), labels.to(device)\n",
        "            outputs = model(images)\n",
        "            _, predicted = torch.max(outputs, 1)\n",
        "            preds.extend(predicted.cpu().numpy())\n",
        "            trues.extend(labels.cpu().numpy())\n",
        "    return accuracy_score(trues, preds)\n",
        "\n",
        "\n",
        "for fold, (train_idx, val_idx) in enumerate(skf.split(np.zeros(len(labels)), labels)):\n",
        "    print(f\"\\n===== Fold {fold+1} =====\")\n",
        "\n",
        "    train_subset = Subset(train_data, train_idx)\n",
        "    val_subset = Subset(train_data, val_idx)\n",
        "\n",
        "    train_loader = DataLoader(train_subset, batch_size=32, shuffle=True)\n",
        "    val_loader = DataLoader(val_subset, batch_size=32, shuffle=False)\n",
        "\n",
        "\n",
        "    model = ModelV2CNN(input_shape=1, hidden_units=64, output_shape=len(train_data.classes)).to(device)\n",
        "    criterion = nn.CrossEntropyLoss()\n",
        "    optimizer = optim.SGD(model.parameters(), lr=0.01)\n",
        "\n",
        "\n",
        "    for epoch in range(3):\n",
        "        loss = train_one_epoch(model, train_loader, criterion, optimizer, device)\n",
        "        print(f\"Epoch {epoch+1}, Loss: {loss:.4f}\")\n",
        "\n",
        "\n",
        "    acc = evaluate(model, val_loader, device)\n",
        "    print(f\"Accuracy (fold {fold+1}): {acc:.4f}\")\n",
        "    cv_scores.append(acc)\n",
        "\n",
        "print(\"\\nŚrednia dokładność CV:\", np.mean(cv_scores))\n",
        "\n",
        "\n",
        "final_loader = DataLoader(train_data, batch_size=32, shuffle=True)\n",
        "final_model = ModelV2CNN(input_shape=1, hidden_units=64, output_shape=len(train_data.classes)).to(device)\n",
        "criterion = nn.CrossEntropyLoss()\n",
        "optimizer = optim.SGD(final_model.parameters(), lr=0.01)\n",
        "\n",
        "for epoch in range(5):\n",
        "    loss = train_one_epoch(final_model, final_loader, criterion, optimizer, device)\n",
        "    print(f\"Final model — Epoch {epoch+1}, Loss: {loss:.4f}\")\n",
        "\n",
        "\n",
        "test_loader = DataLoader(test_data, batch_size=32, shuffle=False)\n",
        "test_acc = evaluate(final_model, test_loader, device)\n",
        "print(\"\\nDokładność na zbiorze testowym:\", test_acc)"
      ]
    },
    {
      "cell_type": "code",
      "execution_count": null,
      "metadata": {
        "id": "913pi9BnZVpv"
      },
      "outputs": [],
      "source": []
    },
    {
      "cell_type": "code",
      "execution_count": null,
      "metadata": {
        "id": "KWEu-PYWZVmM"
      },
      "outputs": [],
      "source": []
    },
    {
      "cell_type": "code",
      "execution_count": null,
      "metadata": {
        "id": "LYKa6bntZVjN"
      },
      "outputs": [],
      "source": []
    },
    {
      "cell_type": "code",
      "execution_count": null,
      "metadata": {
        "id": "6UZhvUU3bAeb"
      },
      "outputs": [],
      "source": []
    },
    {
      "cell_type": "code",
      "execution_count": null,
      "metadata": {
        "id": "wlKr72s_bAa8"
      },
      "outputs": [],
      "source": []
    },
    {
      "cell_type": "code",
      "execution_count": null,
      "metadata": {
        "id": "ezrSzzBebAYK"
      },
      "outputs": [],
      "source": []
    },
    {
      "cell_type": "code",
      "execution_count": null,
      "metadata": {
        "id": "AgbVl1ivbATX"
      },
      "outputs": [],
      "source": []
    },
    {
      "cell_type": "code",
      "execution_count": null,
      "metadata": {
        "id": "jnmhcqjebAQR"
      },
      "outputs": [],
      "source": []
    },
    {
      "cell_type": "code",
      "execution_count": null,
      "metadata": {
        "id": "gfA-zrwAbANS"
      },
      "outputs": [],
      "source": []
    },
    {
      "cell_type": "code",
      "execution_count": null,
      "metadata": {
        "id": "MbmL9VDJbAKZ"
      },
      "outputs": [],
      "source": []
    }
  ],
  "metadata": {
    "accelerator": "GPU",
    "colab": {
      "gpuType": "T4",
      "provenance": []
    },
    "kernelspec": {
      "display_name": "Python 3",
      "name": "python3"
    },
    "language_info": {
      "name": "python"
    },
    "widgets": {
      "application/vnd.jupyter.widget-state+json": {
        "3a9675c6615f43e7bc68728e39888500": {
          "model_module": "@jupyter-widgets/controls",
          "model_name": "HBoxModel",
          "model_module_version": "1.5.0",
          "state": {
            "_dom_classes": [],
            "_model_module": "@jupyter-widgets/controls",
            "_model_module_version": "1.5.0",
            "_model_name": "HBoxModel",
            "_view_count": null,
            "_view_module": "@jupyter-widgets/controls",
            "_view_module_version": "1.5.0",
            "_view_name": "HBoxView",
            "box_style": "",
            "children": [
              "IPY_MODEL_2e9dff9b069c417fa958c403d1bd0fe7",
              "IPY_MODEL_92cf00f159d24a808bb8a64bc0dbb1f4",
              "IPY_MODEL_edc09a3e7f5a41f9b2b75baafb6dd764"
            ],
            "layout": "IPY_MODEL_ae499f8128134d6ab13c72abbb1f20ce"
          }
        },
        "2e9dff9b069c417fa958c403d1bd0fe7": {
          "model_module": "@jupyter-widgets/controls",
          "model_name": "HTMLModel",
          "model_module_version": "1.5.0",
          "state": {
            "_dom_classes": [],
            "_model_module": "@jupyter-widgets/controls",
            "_model_module_version": "1.5.0",
            "_model_name": "HTMLModel",
            "_view_count": null,
            "_view_module": "@jupyter-widgets/controls",
            "_view_module_version": "1.5.0",
            "_view_name": "HTMLView",
            "description": "",
            "description_tooltip": null,
            "layout": "IPY_MODEL_ac1a297b1545458686b3da9a09015cf6",
            "placeholder": "​",
            "style": "IPY_MODEL_b8a8210081884637ae3a0cc8df5c91da",
            "value": "100%"
          }
        },
        "92cf00f159d24a808bb8a64bc0dbb1f4": {
          "model_module": "@jupyter-widgets/controls",
          "model_name": "FloatProgressModel",
          "model_module_version": "1.5.0",
          "state": {
            "_dom_classes": [],
            "_model_module": "@jupyter-widgets/controls",
            "_model_module_version": "1.5.0",
            "_model_name": "FloatProgressModel",
            "_view_count": null,
            "_view_module": "@jupyter-widgets/controls",
            "_view_module_version": "1.5.0",
            "_view_name": "ProgressView",
            "bar_style": "success",
            "description": "",
            "description_tooltip": null,
            "layout": "IPY_MODEL_dbfcc0ca73aa43c5b89b38ca7f2cb23a",
            "max": 3,
            "min": 0,
            "orientation": "horizontal",
            "style": "IPY_MODEL_7f907dd10c0f463da4793d566084ba92",
            "value": 3
          }
        },
        "edc09a3e7f5a41f9b2b75baafb6dd764": {
          "model_module": "@jupyter-widgets/controls",
          "model_name": "HTMLModel",
          "model_module_version": "1.5.0",
          "state": {
            "_dom_classes": [],
            "_model_module": "@jupyter-widgets/controls",
            "_model_module_version": "1.5.0",
            "_model_name": "HTMLModel",
            "_view_count": null,
            "_view_module": "@jupyter-widgets/controls",
            "_view_module_version": "1.5.0",
            "_view_name": "HTMLView",
            "description": "",
            "description_tooltip": null,
            "layout": "IPY_MODEL_cf796410323f4c7591c58ef5cd2a79ce",
            "placeholder": "​",
            "style": "IPY_MODEL_1a9150bead0c4a34a7c00c547759d908",
            "value": " 3/3 [00:20&lt;00:00,  6.92s/it]"
          }
        },
        "ae499f8128134d6ab13c72abbb1f20ce": {
          "model_module": "@jupyter-widgets/base",
          "model_name": "LayoutModel",
          "model_module_version": "1.2.0",
          "state": {
            "_model_module": "@jupyter-widgets/base",
            "_model_module_version": "1.2.0",
            "_model_name": "LayoutModel",
            "_view_count": null,
            "_view_module": "@jupyter-widgets/base",
            "_view_module_version": "1.2.0",
            "_view_name": "LayoutView",
            "align_content": null,
            "align_items": null,
            "align_self": null,
            "border": null,
            "bottom": null,
            "display": null,
            "flex": null,
            "flex_flow": null,
            "grid_area": null,
            "grid_auto_columns": null,
            "grid_auto_flow": null,
            "grid_auto_rows": null,
            "grid_column": null,
            "grid_gap": null,
            "grid_row": null,
            "grid_template_areas": null,
            "grid_template_columns": null,
            "grid_template_rows": null,
            "height": null,
            "justify_content": null,
            "justify_items": null,
            "left": null,
            "margin": null,
            "max_height": null,
            "max_width": null,
            "min_height": null,
            "min_width": null,
            "object_fit": null,
            "object_position": null,
            "order": null,
            "overflow": null,
            "overflow_x": null,
            "overflow_y": null,
            "padding": null,
            "right": null,
            "top": null,
            "visibility": null,
            "width": null
          }
        },
        "ac1a297b1545458686b3da9a09015cf6": {
          "model_module": "@jupyter-widgets/base",
          "model_name": "LayoutModel",
          "model_module_version": "1.2.0",
          "state": {
            "_model_module": "@jupyter-widgets/base",
            "_model_module_version": "1.2.0",
            "_model_name": "LayoutModel",
            "_view_count": null,
            "_view_module": "@jupyter-widgets/base",
            "_view_module_version": "1.2.0",
            "_view_name": "LayoutView",
            "align_content": null,
            "align_items": null,
            "align_self": null,
            "border": null,
            "bottom": null,
            "display": null,
            "flex": null,
            "flex_flow": null,
            "grid_area": null,
            "grid_auto_columns": null,
            "grid_auto_flow": null,
            "grid_auto_rows": null,
            "grid_column": null,
            "grid_gap": null,
            "grid_row": null,
            "grid_template_areas": null,
            "grid_template_columns": null,
            "grid_template_rows": null,
            "height": null,
            "justify_content": null,
            "justify_items": null,
            "left": null,
            "margin": null,
            "max_height": null,
            "max_width": null,
            "min_height": null,
            "min_width": null,
            "object_fit": null,
            "object_position": null,
            "order": null,
            "overflow": null,
            "overflow_x": null,
            "overflow_y": null,
            "padding": null,
            "right": null,
            "top": null,
            "visibility": null,
            "width": null
          }
        },
        "b8a8210081884637ae3a0cc8df5c91da": {
          "model_module": "@jupyter-widgets/controls",
          "model_name": "DescriptionStyleModel",
          "model_module_version": "1.5.0",
          "state": {
            "_model_module": "@jupyter-widgets/controls",
            "_model_module_version": "1.5.0",
            "_model_name": "DescriptionStyleModel",
            "_view_count": null,
            "_view_module": "@jupyter-widgets/base",
            "_view_module_version": "1.2.0",
            "_view_name": "StyleView",
            "description_width": ""
          }
        },
        "dbfcc0ca73aa43c5b89b38ca7f2cb23a": {
          "model_module": "@jupyter-widgets/base",
          "model_name": "LayoutModel",
          "model_module_version": "1.2.0",
          "state": {
            "_model_module": "@jupyter-widgets/base",
            "_model_module_version": "1.2.0",
            "_model_name": "LayoutModel",
            "_view_count": null,
            "_view_module": "@jupyter-widgets/base",
            "_view_module_version": "1.2.0",
            "_view_name": "LayoutView",
            "align_content": null,
            "align_items": null,
            "align_self": null,
            "border": null,
            "bottom": null,
            "display": null,
            "flex": null,
            "flex_flow": null,
            "grid_area": null,
            "grid_auto_columns": null,
            "grid_auto_flow": null,
            "grid_auto_rows": null,
            "grid_column": null,
            "grid_gap": null,
            "grid_row": null,
            "grid_template_areas": null,
            "grid_template_columns": null,
            "grid_template_rows": null,
            "height": null,
            "justify_content": null,
            "justify_items": null,
            "left": null,
            "margin": null,
            "max_height": null,
            "max_width": null,
            "min_height": null,
            "min_width": null,
            "object_fit": null,
            "object_position": null,
            "order": null,
            "overflow": null,
            "overflow_x": null,
            "overflow_y": null,
            "padding": null,
            "right": null,
            "top": null,
            "visibility": null,
            "width": null
          }
        },
        "7f907dd10c0f463da4793d566084ba92": {
          "model_module": "@jupyter-widgets/controls",
          "model_name": "ProgressStyleModel",
          "model_module_version": "1.5.0",
          "state": {
            "_model_module": "@jupyter-widgets/controls",
            "_model_module_version": "1.5.0",
            "_model_name": "ProgressStyleModel",
            "_view_count": null,
            "_view_module": "@jupyter-widgets/base",
            "_view_module_version": "1.2.0",
            "_view_name": "StyleView",
            "bar_color": null,
            "description_width": ""
          }
        },
        "cf796410323f4c7591c58ef5cd2a79ce": {
          "model_module": "@jupyter-widgets/base",
          "model_name": "LayoutModel",
          "model_module_version": "1.2.0",
          "state": {
            "_model_module": "@jupyter-widgets/base",
            "_model_module_version": "1.2.0",
            "_model_name": "LayoutModel",
            "_view_count": null,
            "_view_module": "@jupyter-widgets/base",
            "_view_module_version": "1.2.0",
            "_view_name": "LayoutView",
            "align_content": null,
            "align_items": null,
            "align_self": null,
            "border": null,
            "bottom": null,
            "display": null,
            "flex": null,
            "flex_flow": null,
            "grid_area": null,
            "grid_auto_columns": null,
            "grid_auto_flow": null,
            "grid_auto_rows": null,
            "grid_column": null,
            "grid_gap": null,
            "grid_row": null,
            "grid_template_areas": null,
            "grid_template_columns": null,
            "grid_template_rows": null,
            "height": null,
            "justify_content": null,
            "justify_items": null,
            "left": null,
            "margin": null,
            "max_height": null,
            "max_width": null,
            "min_height": null,
            "min_width": null,
            "object_fit": null,
            "object_position": null,
            "order": null,
            "overflow": null,
            "overflow_x": null,
            "overflow_y": null,
            "padding": null,
            "right": null,
            "top": null,
            "visibility": null,
            "width": null
          }
        },
        "1a9150bead0c4a34a7c00c547759d908": {
          "model_module": "@jupyter-widgets/controls",
          "model_name": "DescriptionStyleModel",
          "model_module_version": "1.5.0",
          "state": {
            "_model_module": "@jupyter-widgets/controls",
            "_model_module_version": "1.5.0",
            "_model_name": "DescriptionStyleModel",
            "_view_count": null,
            "_view_module": "@jupyter-widgets/base",
            "_view_module_version": "1.2.0",
            "_view_name": "StyleView",
            "description_width": ""
          }
        },
        "1384b4fdbbfc42e0870b5acd92726d09": {
          "model_module": "@jupyter-widgets/controls",
          "model_name": "HBoxModel",
          "model_module_version": "1.5.0",
          "state": {
            "_dom_classes": [],
            "_model_module": "@jupyter-widgets/controls",
            "_model_module_version": "1.5.0",
            "_model_name": "HBoxModel",
            "_view_count": null,
            "_view_module": "@jupyter-widgets/controls",
            "_view_module_version": "1.5.0",
            "_view_name": "HBoxView",
            "box_style": "",
            "children": [
              "IPY_MODEL_97dec760d23e4f29893e97b5b6aaf164",
              "IPY_MODEL_ef767cb983384e93b35f77a95bef2757",
              "IPY_MODEL_e5758655f57749978d2c1c740320f393"
            ],
            "layout": "IPY_MODEL_e4717a7dd9a24538a0b25c1b4e155d61"
          }
        },
        "97dec760d23e4f29893e97b5b6aaf164": {
          "model_module": "@jupyter-widgets/controls",
          "model_name": "HTMLModel",
          "model_module_version": "1.5.0",
          "state": {
            "_dom_classes": [],
            "_model_module": "@jupyter-widgets/controls",
            "_model_module_version": "1.5.0",
            "_model_name": "HTMLModel",
            "_view_count": null,
            "_view_module": "@jupyter-widgets/controls",
            "_view_module_version": "1.5.0",
            "_view_name": "HTMLView",
            "description": "",
            "description_tooltip": null,
            "layout": "IPY_MODEL_3051a2442cae43479f200366d4a51b30",
            "placeholder": "​",
            "style": "IPY_MODEL_61522b0cdd474439bce6fc6bf140ca59",
            "value": "100%"
          }
        },
        "ef767cb983384e93b35f77a95bef2757": {
          "model_module": "@jupyter-widgets/controls",
          "model_name": "FloatProgressModel",
          "model_module_version": "1.5.0",
          "state": {
            "_dom_classes": [],
            "_model_module": "@jupyter-widgets/controls",
            "_model_module_version": "1.5.0",
            "_model_name": "FloatProgressModel",
            "_view_count": null,
            "_view_module": "@jupyter-widgets/controls",
            "_view_module_version": "1.5.0",
            "_view_name": "ProgressView",
            "bar_style": "success",
            "description": "",
            "description_tooltip": null,
            "layout": "IPY_MODEL_a375fc50adf54f45b422daf82471bb80",
            "max": 3,
            "min": 0,
            "orientation": "horizontal",
            "style": "IPY_MODEL_bcbc77d0c86e4ed6b577bf631c1ab588",
            "value": 3
          }
        },
        "e5758655f57749978d2c1c740320f393": {
          "model_module": "@jupyter-widgets/controls",
          "model_name": "HTMLModel",
          "model_module_version": "1.5.0",
          "state": {
            "_dom_classes": [],
            "_model_module": "@jupyter-widgets/controls",
            "_model_module_version": "1.5.0",
            "_model_name": "HTMLModel",
            "_view_count": null,
            "_view_module": "@jupyter-widgets/controls",
            "_view_module_version": "1.5.0",
            "_view_name": "HTMLView",
            "description": "",
            "description_tooltip": null,
            "layout": "IPY_MODEL_355fbd1436284c35a55438644361a7b4",
            "placeholder": "​",
            "style": "IPY_MODEL_db3e699aed354ac383fe23af9b6a5f5a",
            "value": " 3/3 [00:19&lt;00:00,  6.44s/it]"
          }
        },
        "e4717a7dd9a24538a0b25c1b4e155d61": {
          "model_module": "@jupyter-widgets/base",
          "model_name": "LayoutModel",
          "model_module_version": "1.2.0",
          "state": {
            "_model_module": "@jupyter-widgets/base",
            "_model_module_version": "1.2.0",
            "_model_name": "LayoutModel",
            "_view_count": null,
            "_view_module": "@jupyter-widgets/base",
            "_view_module_version": "1.2.0",
            "_view_name": "LayoutView",
            "align_content": null,
            "align_items": null,
            "align_self": null,
            "border": null,
            "bottom": null,
            "display": null,
            "flex": null,
            "flex_flow": null,
            "grid_area": null,
            "grid_auto_columns": null,
            "grid_auto_flow": null,
            "grid_auto_rows": null,
            "grid_column": null,
            "grid_gap": null,
            "grid_row": null,
            "grid_template_areas": null,
            "grid_template_columns": null,
            "grid_template_rows": null,
            "height": null,
            "justify_content": null,
            "justify_items": null,
            "left": null,
            "margin": null,
            "max_height": null,
            "max_width": null,
            "min_height": null,
            "min_width": null,
            "object_fit": null,
            "object_position": null,
            "order": null,
            "overflow": null,
            "overflow_x": null,
            "overflow_y": null,
            "padding": null,
            "right": null,
            "top": null,
            "visibility": null,
            "width": null
          }
        },
        "3051a2442cae43479f200366d4a51b30": {
          "model_module": "@jupyter-widgets/base",
          "model_name": "LayoutModel",
          "model_module_version": "1.2.0",
          "state": {
            "_model_module": "@jupyter-widgets/base",
            "_model_module_version": "1.2.0",
            "_model_name": "LayoutModel",
            "_view_count": null,
            "_view_module": "@jupyter-widgets/base",
            "_view_module_version": "1.2.0",
            "_view_name": "LayoutView",
            "align_content": null,
            "align_items": null,
            "align_self": null,
            "border": null,
            "bottom": null,
            "display": null,
            "flex": null,
            "flex_flow": null,
            "grid_area": null,
            "grid_auto_columns": null,
            "grid_auto_flow": null,
            "grid_auto_rows": null,
            "grid_column": null,
            "grid_gap": null,
            "grid_row": null,
            "grid_template_areas": null,
            "grid_template_columns": null,
            "grid_template_rows": null,
            "height": null,
            "justify_content": null,
            "justify_items": null,
            "left": null,
            "margin": null,
            "max_height": null,
            "max_width": null,
            "min_height": null,
            "min_width": null,
            "object_fit": null,
            "object_position": null,
            "order": null,
            "overflow": null,
            "overflow_x": null,
            "overflow_y": null,
            "padding": null,
            "right": null,
            "top": null,
            "visibility": null,
            "width": null
          }
        },
        "61522b0cdd474439bce6fc6bf140ca59": {
          "model_module": "@jupyter-widgets/controls",
          "model_name": "DescriptionStyleModel",
          "model_module_version": "1.5.0",
          "state": {
            "_model_module": "@jupyter-widgets/controls",
            "_model_module_version": "1.5.0",
            "_model_name": "DescriptionStyleModel",
            "_view_count": null,
            "_view_module": "@jupyter-widgets/base",
            "_view_module_version": "1.2.0",
            "_view_name": "StyleView",
            "description_width": ""
          }
        },
        "a375fc50adf54f45b422daf82471bb80": {
          "model_module": "@jupyter-widgets/base",
          "model_name": "LayoutModel",
          "model_module_version": "1.2.0",
          "state": {
            "_model_module": "@jupyter-widgets/base",
            "_model_module_version": "1.2.0",
            "_model_name": "LayoutModel",
            "_view_count": null,
            "_view_module": "@jupyter-widgets/base",
            "_view_module_version": "1.2.0",
            "_view_name": "LayoutView",
            "align_content": null,
            "align_items": null,
            "align_self": null,
            "border": null,
            "bottom": null,
            "display": null,
            "flex": null,
            "flex_flow": null,
            "grid_area": null,
            "grid_auto_columns": null,
            "grid_auto_flow": null,
            "grid_auto_rows": null,
            "grid_column": null,
            "grid_gap": null,
            "grid_row": null,
            "grid_template_areas": null,
            "grid_template_columns": null,
            "grid_template_rows": null,
            "height": null,
            "justify_content": null,
            "justify_items": null,
            "left": null,
            "margin": null,
            "max_height": null,
            "max_width": null,
            "min_height": null,
            "min_width": null,
            "object_fit": null,
            "object_position": null,
            "order": null,
            "overflow": null,
            "overflow_x": null,
            "overflow_y": null,
            "padding": null,
            "right": null,
            "top": null,
            "visibility": null,
            "width": null
          }
        },
        "bcbc77d0c86e4ed6b577bf631c1ab588": {
          "model_module": "@jupyter-widgets/controls",
          "model_name": "ProgressStyleModel",
          "model_module_version": "1.5.0",
          "state": {
            "_model_module": "@jupyter-widgets/controls",
            "_model_module_version": "1.5.0",
            "_model_name": "ProgressStyleModel",
            "_view_count": null,
            "_view_module": "@jupyter-widgets/base",
            "_view_module_version": "1.2.0",
            "_view_name": "StyleView",
            "bar_color": null,
            "description_width": ""
          }
        },
        "355fbd1436284c35a55438644361a7b4": {
          "model_module": "@jupyter-widgets/base",
          "model_name": "LayoutModel",
          "model_module_version": "1.2.0",
          "state": {
            "_model_module": "@jupyter-widgets/base",
            "_model_module_version": "1.2.0",
            "_model_name": "LayoutModel",
            "_view_count": null,
            "_view_module": "@jupyter-widgets/base",
            "_view_module_version": "1.2.0",
            "_view_name": "LayoutView",
            "align_content": null,
            "align_items": null,
            "align_self": null,
            "border": null,
            "bottom": null,
            "display": null,
            "flex": null,
            "flex_flow": null,
            "grid_area": null,
            "grid_auto_columns": null,
            "grid_auto_flow": null,
            "grid_auto_rows": null,
            "grid_column": null,
            "grid_gap": null,
            "grid_row": null,
            "grid_template_areas": null,
            "grid_template_columns": null,
            "grid_template_rows": null,
            "height": null,
            "justify_content": null,
            "justify_items": null,
            "left": null,
            "margin": null,
            "max_height": null,
            "max_width": null,
            "min_height": null,
            "min_width": null,
            "object_fit": null,
            "object_position": null,
            "order": null,
            "overflow": null,
            "overflow_x": null,
            "overflow_y": null,
            "padding": null,
            "right": null,
            "top": null,
            "visibility": null,
            "width": null
          }
        },
        "db3e699aed354ac383fe23af9b6a5f5a": {
          "model_module": "@jupyter-widgets/controls",
          "model_name": "DescriptionStyleModel",
          "model_module_version": "1.5.0",
          "state": {
            "_model_module": "@jupyter-widgets/controls",
            "_model_module_version": "1.5.0",
            "_model_name": "DescriptionStyleModel",
            "_view_count": null,
            "_view_module": "@jupyter-widgets/base",
            "_view_module_version": "1.2.0",
            "_view_name": "StyleView",
            "description_width": ""
          }
        },
        "502672d3a1ac49b89cca0da1f31116f1": {
          "model_module": "@jupyter-widgets/controls",
          "model_name": "HBoxModel",
          "model_module_version": "1.5.0",
          "state": {
            "_dom_classes": [],
            "_model_module": "@jupyter-widgets/controls",
            "_model_module_version": "1.5.0",
            "_model_name": "HBoxModel",
            "_view_count": null,
            "_view_module": "@jupyter-widgets/controls",
            "_view_module_version": "1.5.0",
            "_view_name": "HBoxView",
            "box_style": "",
            "children": [
              "IPY_MODEL_cd3dce7856504fab9de78c69408d9a69",
              "IPY_MODEL_9a4cd9f30c5d4888899bf54c22ae545b",
              "IPY_MODEL_be88fa34c7d849e39fce8ad8d749da76"
            ],
            "layout": "IPY_MODEL_24dd25f31f6049c0af5ec4747883db74"
          }
        },
        "cd3dce7856504fab9de78c69408d9a69": {
          "model_module": "@jupyter-widgets/controls",
          "model_name": "HTMLModel",
          "model_module_version": "1.5.0",
          "state": {
            "_dom_classes": [],
            "_model_module": "@jupyter-widgets/controls",
            "_model_module_version": "1.5.0",
            "_model_name": "HTMLModel",
            "_view_count": null,
            "_view_module": "@jupyter-widgets/controls",
            "_view_module_version": "1.5.0",
            "_view_name": "HTMLView",
            "description": "",
            "description_tooltip": null,
            "layout": "IPY_MODEL_b430264e413047ea8536d5f68a731b8c",
            "placeholder": "​",
            "style": "IPY_MODEL_f8344937862c4cce8f8cc9d3473d3e28",
            "value": "100%"
          }
        },
        "9a4cd9f30c5d4888899bf54c22ae545b": {
          "model_module": "@jupyter-widgets/controls",
          "model_name": "FloatProgressModel",
          "model_module_version": "1.5.0",
          "state": {
            "_dom_classes": [],
            "_model_module": "@jupyter-widgets/controls",
            "_model_module_version": "1.5.0",
            "_model_name": "FloatProgressModel",
            "_view_count": null,
            "_view_module": "@jupyter-widgets/controls",
            "_view_module_version": "1.5.0",
            "_view_name": "ProgressView",
            "bar_style": "success",
            "description": "",
            "description_tooltip": null,
            "layout": "IPY_MODEL_84fcbb9b52df457aad9f8b64fc784311",
            "max": 20,
            "min": 0,
            "orientation": "horizontal",
            "style": "IPY_MODEL_aeb36e96459345d6a883a1d60493e457",
            "value": 20
          }
        },
        "be88fa34c7d849e39fce8ad8d749da76": {
          "model_module": "@jupyter-widgets/controls",
          "model_name": "HTMLModel",
          "model_module_version": "1.5.0",
          "state": {
            "_dom_classes": [],
            "_model_module": "@jupyter-widgets/controls",
            "_model_module_version": "1.5.0",
            "_model_name": "HTMLModel",
            "_view_count": null,
            "_view_module": "@jupyter-widgets/controls",
            "_view_module_version": "1.5.0",
            "_view_name": "HTMLView",
            "description": "",
            "description_tooltip": null,
            "layout": "IPY_MODEL_ed1fa1f015d142c881a868d540dde068",
            "placeholder": "​",
            "style": "IPY_MODEL_88e381627ccc4a898be3157608f50646",
            "value": " 20/20 [03:32&lt;00:00, 10.62s/it]"
          }
        },
        "24dd25f31f6049c0af5ec4747883db74": {
          "model_module": "@jupyter-widgets/base",
          "model_name": "LayoutModel",
          "model_module_version": "1.2.0",
          "state": {
            "_model_module": "@jupyter-widgets/base",
            "_model_module_version": "1.2.0",
            "_model_name": "LayoutModel",
            "_view_count": null,
            "_view_module": "@jupyter-widgets/base",
            "_view_module_version": "1.2.0",
            "_view_name": "LayoutView",
            "align_content": null,
            "align_items": null,
            "align_self": null,
            "border": null,
            "bottom": null,
            "display": null,
            "flex": null,
            "flex_flow": null,
            "grid_area": null,
            "grid_auto_columns": null,
            "grid_auto_flow": null,
            "grid_auto_rows": null,
            "grid_column": null,
            "grid_gap": null,
            "grid_row": null,
            "grid_template_areas": null,
            "grid_template_columns": null,
            "grid_template_rows": null,
            "height": null,
            "justify_content": null,
            "justify_items": null,
            "left": null,
            "margin": null,
            "max_height": null,
            "max_width": null,
            "min_height": null,
            "min_width": null,
            "object_fit": null,
            "object_position": null,
            "order": null,
            "overflow": null,
            "overflow_x": null,
            "overflow_y": null,
            "padding": null,
            "right": null,
            "top": null,
            "visibility": null,
            "width": null
          }
        },
        "b430264e413047ea8536d5f68a731b8c": {
          "model_module": "@jupyter-widgets/base",
          "model_name": "LayoutModel",
          "model_module_version": "1.2.0",
          "state": {
            "_model_module": "@jupyter-widgets/base",
            "_model_module_version": "1.2.0",
            "_model_name": "LayoutModel",
            "_view_count": null,
            "_view_module": "@jupyter-widgets/base",
            "_view_module_version": "1.2.0",
            "_view_name": "LayoutView",
            "align_content": null,
            "align_items": null,
            "align_self": null,
            "border": null,
            "bottom": null,
            "display": null,
            "flex": null,
            "flex_flow": null,
            "grid_area": null,
            "grid_auto_columns": null,
            "grid_auto_flow": null,
            "grid_auto_rows": null,
            "grid_column": null,
            "grid_gap": null,
            "grid_row": null,
            "grid_template_areas": null,
            "grid_template_columns": null,
            "grid_template_rows": null,
            "height": null,
            "justify_content": null,
            "justify_items": null,
            "left": null,
            "margin": null,
            "max_height": null,
            "max_width": null,
            "min_height": null,
            "min_width": null,
            "object_fit": null,
            "object_position": null,
            "order": null,
            "overflow": null,
            "overflow_x": null,
            "overflow_y": null,
            "padding": null,
            "right": null,
            "top": null,
            "visibility": null,
            "width": null
          }
        },
        "f8344937862c4cce8f8cc9d3473d3e28": {
          "model_module": "@jupyter-widgets/controls",
          "model_name": "DescriptionStyleModel",
          "model_module_version": "1.5.0",
          "state": {
            "_model_module": "@jupyter-widgets/controls",
            "_model_module_version": "1.5.0",
            "_model_name": "DescriptionStyleModel",
            "_view_count": null,
            "_view_module": "@jupyter-widgets/base",
            "_view_module_version": "1.2.0",
            "_view_name": "StyleView",
            "description_width": ""
          }
        },
        "84fcbb9b52df457aad9f8b64fc784311": {
          "model_module": "@jupyter-widgets/base",
          "model_name": "LayoutModel",
          "model_module_version": "1.2.0",
          "state": {
            "_model_module": "@jupyter-widgets/base",
            "_model_module_version": "1.2.0",
            "_model_name": "LayoutModel",
            "_view_count": null,
            "_view_module": "@jupyter-widgets/base",
            "_view_module_version": "1.2.0",
            "_view_name": "LayoutView",
            "align_content": null,
            "align_items": null,
            "align_self": null,
            "border": null,
            "bottom": null,
            "display": null,
            "flex": null,
            "flex_flow": null,
            "grid_area": null,
            "grid_auto_columns": null,
            "grid_auto_flow": null,
            "grid_auto_rows": null,
            "grid_column": null,
            "grid_gap": null,
            "grid_row": null,
            "grid_template_areas": null,
            "grid_template_columns": null,
            "grid_template_rows": null,
            "height": null,
            "justify_content": null,
            "justify_items": null,
            "left": null,
            "margin": null,
            "max_height": null,
            "max_width": null,
            "min_height": null,
            "min_width": null,
            "object_fit": null,
            "object_position": null,
            "order": null,
            "overflow": null,
            "overflow_x": null,
            "overflow_y": null,
            "padding": null,
            "right": null,
            "top": null,
            "visibility": null,
            "width": null
          }
        },
        "aeb36e96459345d6a883a1d60493e457": {
          "model_module": "@jupyter-widgets/controls",
          "model_name": "ProgressStyleModel",
          "model_module_version": "1.5.0",
          "state": {
            "_model_module": "@jupyter-widgets/controls",
            "_model_module_version": "1.5.0",
            "_model_name": "ProgressStyleModel",
            "_view_count": null,
            "_view_module": "@jupyter-widgets/base",
            "_view_module_version": "1.2.0",
            "_view_name": "StyleView",
            "bar_color": null,
            "description_width": ""
          }
        },
        "ed1fa1f015d142c881a868d540dde068": {
          "model_module": "@jupyter-widgets/base",
          "model_name": "LayoutModel",
          "model_module_version": "1.2.0",
          "state": {
            "_model_module": "@jupyter-widgets/base",
            "_model_module_version": "1.2.0",
            "_model_name": "LayoutModel",
            "_view_count": null,
            "_view_module": "@jupyter-widgets/base",
            "_view_module_version": "1.2.0",
            "_view_name": "LayoutView",
            "align_content": null,
            "align_items": null,
            "align_self": null,
            "border": null,
            "bottom": null,
            "display": null,
            "flex": null,
            "flex_flow": null,
            "grid_area": null,
            "grid_auto_columns": null,
            "grid_auto_flow": null,
            "grid_auto_rows": null,
            "grid_column": null,
            "grid_gap": null,
            "grid_row": null,
            "grid_template_areas": null,
            "grid_template_columns": null,
            "grid_template_rows": null,
            "height": null,
            "justify_content": null,
            "justify_items": null,
            "left": null,
            "margin": null,
            "max_height": null,
            "max_width": null,
            "min_height": null,
            "min_width": null,
            "object_fit": null,
            "object_position": null,
            "order": null,
            "overflow": null,
            "overflow_x": null,
            "overflow_y": null,
            "padding": null,
            "right": null,
            "top": null,
            "visibility": null,
            "width": null
          }
        },
        "88e381627ccc4a898be3157608f50646": {
          "model_module": "@jupyter-widgets/controls",
          "model_name": "DescriptionStyleModel",
          "model_module_version": "1.5.0",
          "state": {
            "_model_module": "@jupyter-widgets/controls",
            "_model_module_version": "1.5.0",
            "_model_name": "DescriptionStyleModel",
            "_view_count": null,
            "_view_module": "@jupyter-widgets/base",
            "_view_module_version": "1.2.0",
            "_view_name": "StyleView",
            "description_width": ""
          }
        }
      }
    }
  },
  "nbformat": 4,
  "nbformat_minor": 0
}